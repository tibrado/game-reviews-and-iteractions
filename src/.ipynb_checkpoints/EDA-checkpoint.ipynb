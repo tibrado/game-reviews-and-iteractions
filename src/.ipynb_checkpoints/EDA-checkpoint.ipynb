{
 "cells": [
  {
   "cell_type": "code",
   "execution_count": 28,
   "metadata": {},
   "outputs": [],
   "source": [
    "# Imports \n",
    "import pandas as pd\n",
    "import helper as hp\n",
    "import numpy as np\n",
    "from sklearn import preprocessing\n",
    "from scipy import stats"
   ]
  },
  {
   "cell_type": "code",
   "execution_count": 5,
   "metadata": {},
   "outputs": [
    {
     "name": "stdout",
     "output_type": "stream",
     "text": [
      "<class 'pandas.core.frame.DataFrame'>\n",
      "RangeIndex: 1999 entries, 0 to 1998\n",
      "Data columns (total 4 columns):\n",
      " #   Column         Non-Null Count  Dtype  \n",
      "---  ------         --------------  -----  \n",
      " 0   rating         1999 non-null   float64\n",
      " 1   date           1999 non-null   object \n",
      " 2   comment_count  1999 non-null   int64  \n",
      " 3   name           1999 non-null   object \n",
      "dtypes: float64(1), int64(1), object(2)\n",
      "memory usage: 62.6+ KB\n"
     ]
    }
   ],
   "source": [
    "# Load data \n",
    "df = pd.read_csv('../data/clean_lvl1.csv')\n",
    "\n",
    "# data description \n",
    "df.info()"
   ]
  },
  {
   "cell_type": "markdown",
   "metadata": {},
   "source": [
    "### Columns \n",
    "|Column Name | Data Type | \n",
    "|------------|-----------|\n",
    "|rating | float|\n",
    "|date | date|\n",
    "|comment_count| int|\n",
    "|name|string|"
   ]
  },
  {
   "cell_type": "markdown",
   "metadata": {},
   "source": [
    "### Name "
   ]
  },
  {
   "cell_type": "code",
   "execution_count": 6,
   "metadata": {},
   "outputs": [],
   "source": [
    "# Name Column: All lower case \n",
    "df['name'] = df['name'].apply(hp.lower)"
   ]
  },
  {
   "cell_type": "code",
   "execution_count": 7,
   "metadata": {},
   "outputs": [],
   "source": [
    "# Name Column: Remove review from names \n",
    "df['name'] = df['name'].str.replace('review', '')"
   ]
  },
  {
   "cell_type": "code",
   "execution_count": 8,
   "metadata": {},
   "outputs": [],
   "source": [
    "# Make string type\n",
    "df['name'] = df['name'].astype('string')"
   ]
  },
  {
   "cell_type": "markdown",
   "metadata": {},
   "source": [
    "### Date "
   ]
  },
  {
   "cell_type": "code",
   "execution_count": 9,
   "metadata": {},
   "outputs": [
    {
     "data": {
      "text/plain": [
       "pandas._libs.tslibs.timestamps.Timestamp"
      ]
     },
     "execution_count": 9,
     "metadata": {},
     "output_type": "execute_result"
    }
   ],
   "source": [
    "# Make date column a date dtype\n",
    "df['date'] = df['date'].astype('datetime64[ns]')\n",
    "type(df['date'][0])"
   ]
  },
  {
   "cell_type": "code",
   "execution_count": 10,
   "metadata": {},
   "outputs": [
    {
     "name": "stdout",
     "output_type": "stream",
     "text": [
      "<class 'pandas.core.frame.DataFrame'>\n",
      "RangeIndex: 1999 entries, 0 to 1998\n",
      "Data columns (total 4 columns):\n",
      " #   Column         Non-Null Count  Dtype         \n",
      "---  ------         --------------  -----         \n",
      " 0   rating         1999 non-null   float64       \n",
      " 1   date           1999 non-null   datetime64[ns]\n",
      " 2   comment_count  1999 non-null   int64         \n",
      " 3   name           1999 non-null   string        \n",
      "dtypes: datetime64[ns](1), float64(1), int64(1), string(1)\n",
      "memory usage: 62.6 KB\n"
     ]
    }
   ],
   "source": [
    "df.info()"
   ]
  },
  {
   "cell_type": "markdown",
   "metadata": {},
   "source": [
    "### Make new columns "
   ]
  },
  {
   "cell_type": "code",
   "execution_count": 11,
   "metadata": {},
   "outputs": [],
   "source": [
    "# Seperate date into months and year \n",
    "df['month'] = df['date'].dt.month\n",
    "df['year'] = df['date'].dt.year"
   ]
  },
  {
   "cell_type": "code",
   "execution_count": 12,
   "metadata": {},
   "outputs": [
    {
     "data": {
      "text/plain": [
       "\"\\nplt.style.use('_classic_test_patch')\\n_ = pd.plotting.scatter_matrix(df[['rating', 'comment_count', 'year']], figsize = (8, 4), diagonal = 'hist')\\n\""
      ]
     },
     "execution_count": 12,
     "metadata": {},
     "output_type": "execute_result"
    }
   ],
   "source": [
    "'''\n",
    "plt.style.use('_classic_test_patch')\n",
    "_ = pd.plotting.scatter_matrix(df[['rating', 'comment_count', 'year']], figsize = (8, 4), diagonal = 'hist')\n",
    "'''"
   ]
  },
  {
   "cell_type": "code",
   "execution_count": 13,
   "metadata": {},
   "outputs": [],
   "source": [
    "# List of console types \n",
    "df['console'] = df['name'].apply(hp.console)"
   ]
  },
  {
   "cell_type": "code",
   "execution_count": 14,
   "metadata": {},
   "outputs": [],
   "source": [
    "# quantiles of rating and comments \n",
    "qrate = df['rating'].describe()[4:]\n",
    "qccount = df['comment_count'].describe()[4:]"
   ]
  },
  {
   "cell_type": "markdown",
   "metadata": {},
   "source": [
    "### Quantiles\n",
    "\n",
    "|column|min|25%|50%|75%|max|\n",
    "|------|---|---|---|---|---|\n",
    "|rating|2|6.8|7.8|8.5|10|\n",
    "|comment count|0|36|184|670|117881|"
   ]
  },
  {
   "cell_type": "code",
   "execution_count": 15,
   "metadata": {},
   "outputs": [],
   "source": [
    "# Bin Ratings\n",
    "hp.set_bin_level(6.8, 8.5, 8.6)\n",
    "df['rate_rank'] = df['rating'].apply(hp.bin_)"
   ]
  },
  {
   "cell_type": "code",
   "execution_count": 16,
   "metadata": {},
   "outputs": [],
   "source": [
    "# Bin comments \n",
    "hp.set_bin_level(36, 670, 671)\n",
    "df['comment_rank'] = df['comment_count'].apply(hp.bin_)"
   ]
  },
  {
   "cell_type": "code",
   "execution_count": 35,
   "metadata": {},
   "outputs": [],
   "source": [
    "# Save data \n",
    "df.to_csv('../data/ign_reviews.csv', index = False)"
   ]
  }
 ],
 "metadata": {
  "kernelspec": {
   "display_name": "Python 3",
   "language": "python",
   "name": "python3"
  },
  "language_info": {
   "codemirror_mode": {
    "name": "ipython",
    "version": 3
   },
   "file_extension": ".py",
   "mimetype": "text/x-python",
   "name": "python",
   "nbconvert_exporter": "python",
   "pygments_lexer": "ipython3",
   "version": "3.8.5"
  }
 },
 "nbformat": 4,
 "nbformat_minor": 4
}
