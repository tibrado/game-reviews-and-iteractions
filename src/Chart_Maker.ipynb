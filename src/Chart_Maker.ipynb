{
 "cells": [
  {
   "cell_type": "code",
   "execution_count": 1,
   "metadata": {},
   "outputs": [],
   "source": [
    "# Imports \n",
    "import pandas as pd\n",
    "import matplotlib.pyplot as plt \n",
    "\n",
    "%matplotlib inline \n",
    "\n",
    "plt.style.use('seaborn')"
   ]
  },
  {
   "cell_type": "code",
   "execution_count": 13,
   "metadata": {},
   "outputs": [
    {
     "data": {
      "text/html": [
       "<div>\n",
       "<style scoped>\n",
       "    .dataframe tbody tr th:only-of-type {\n",
       "        vertical-align: middle;\n",
       "    }\n",
       "\n",
       "    .dataframe tbody tr th {\n",
       "        vertical-align: top;\n",
       "    }\n",
       "\n",
       "    .dataframe thead th {\n",
       "        text-align: right;\n",
       "    }\n",
       "</style>\n",
       "<table border=\"1\" class=\"dataframe\">\n",
       "  <thead>\n",
       "    <tr style=\"text-align: right;\">\n",
       "      <th></th>\n",
       "      <th>rating</th>\n",
       "      <th>date</th>\n",
       "      <th>comment_count</th>\n",
       "      <th>name</th>\n",
       "      <th>month</th>\n",
       "      <th>year</th>\n",
       "      <th>console</th>\n",
       "      <th>comment_rank</th>\n",
       "      <th>rate_rank</th>\n",
       "    </tr>\n",
       "  </thead>\n",
       "  <tbody>\n",
       "    <tr>\n",
       "      <th>0</th>\n",
       "      <td>9.0</td>\n",
       "      <td>2021-02-17</td>\n",
       "      <td>84</td>\n",
       "      <td>valheim early access</td>\n",
       "      <td>2</td>\n",
       "      <td>2021</td>\n",
       "      <td>unknown</td>\n",
       "      <td>medium</td>\n",
       "      <td>high</td>\n",
       "    </tr>\n",
       "    <tr>\n",
       "      <th>1</th>\n",
       "      <td>8.0</td>\n",
       "      <td>2021-02-11</td>\n",
       "      <td>74</td>\n",
       "      <td>ys ix: monstrum nox</td>\n",
       "      <td>2</td>\n",
       "      <td>2021</td>\n",
       "      <td>unknown</td>\n",
       "      <td>medium</td>\n",
       "      <td>medium</td>\n",
       "    </tr>\n",
       "    <tr>\n",
       "      <th>2</th>\n",
       "      <td>7.0</td>\n",
       "      <td>2021-02-10</td>\n",
       "      <td>1291</td>\n",
       "      <td>super mario 3d world + bowser’s fury</td>\n",
       "      <td>2</td>\n",
       "      <td>2021</td>\n",
       "      <td>unknown</td>\n",
       "      <td>high</td>\n",
       "      <td>medium</td>\n",
       "    </tr>\n",
       "    <tr>\n",
       "      <th>3</th>\n",
       "      <td>8.0</td>\n",
       "      <td>2021-02-09</td>\n",
       "      <td>377</td>\n",
       "      <td>persona 5 strikers</td>\n",
       "      <td>2</td>\n",
       "      <td>2021</td>\n",
       "      <td>unknown</td>\n",
       "      <td>medium</td>\n",
       "      <td>medium</td>\n",
       "    </tr>\n",
       "    <tr>\n",
       "      <th>4</th>\n",
       "      <td>7.0</td>\n",
       "      <td>2021-02-09</td>\n",
       "      <td>117</td>\n",
       "      <td>little nightmares 2</td>\n",
       "      <td>2</td>\n",
       "      <td>2021</td>\n",
       "      <td>unknown</td>\n",
       "      <td>medium</td>\n",
       "      <td>medium</td>\n",
       "    </tr>\n",
       "  </tbody>\n",
       "</table>\n",
       "</div>"
      ],
      "text/plain": [
       "   rating        date  comment_count                                   name  \\\n",
       "0     9.0  2021-02-17             84                  valheim early access    \n",
       "1     8.0  2021-02-11             74                   ys ix: monstrum nox    \n",
       "2     7.0  2021-02-10           1291  super mario 3d world + bowser’s fury    \n",
       "3     8.0  2021-02-09            377                    persona 5 strikers    \n",
       "4     7.0  2021-02-09            117                   little nightmares 2    \n",
       "\n",
       "   month  year  console comment_rank rate_rank  \n",
       "0      2  2021  unknown       medium      high  \n",
       "1      2  2021  unknown       medium    medium  \n",
       "2      2  2021  unknown         high    medium  \n",
       "3      2  2021  unknown       medium    medium  \n",
       "4      2  2021  unknown       medium    medium  "
      ]
     },
     "execution_count": 13,
     "metadata": {},
     "output_type": "execute_result"
    }
   ],
   "source": [
    "df = pd.read_csv('../data/ign_reviews.csv')\n",
    "df.head()"
   ]
  },
  {
   "cell_type": "code",
   "execution_count": 25,
   "metadata": {},
   "outputs": [
    {
     "data": {
      "text/plain": [
       "year  rating  rating\n",
       "2013  2.7     2.7       1\n",
       "      3.0     3.0       1\n",
       "      3.5     3.5       4\n",
       "      4.0     4.0       3\n",
       "      4.3     4.3       3\n",
       "                       ..\n",
       "2021  4.0     4.0       1\n",
       "      6.0     6.0       1\n",
       "      7.0     7.0       5\n",
       "      8.0     8.0       7\n",
       "      9.0     9.0       3\n",
       "Name: rating, Length: 361, dtype: int64"
      ]
     },
     "execution_count": 25,
     "metadata": {},
     "output_type": "execute_result"
    }
   ],
   "source": [
    "df.groupby(['year', 'rating'])['rating'].value_counts()"
   ]
  },
  {
   "cell_type": "code",
   "execution_count": null,
   "metadata": {},
   "outputs": [],
   "source": []
  }
 ],
 "metadata": {
  "kernelspec": {
   "display_name": "Python 3",
   "language": "python",
   "name": "python3"
  },
  "language_info": {
   "codemirror_mode": {
    "name": "ipython",
    "version": 3
   },
   "file_extension": ".py",
   "mimetype": "text/x-python",
   "name": "python",
   "nbconvert_exporter": "python",
   "pygments_lexer": "ipython3",
   "version": "3.8.5"
  }
 },
 "nbformat": 4,
 "nbformat_minor": 4
}
